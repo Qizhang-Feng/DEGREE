{
 "cells": [
  {
   "cell_type": "code",
   "execution_count": null,
   "metadata": {},
   "outputs": [],
   "source": [
    "%load_ext autoreload\n",
    "%autoreload 2\n",
    "from dig.xgraph.dataset import *\n",
    "from dig.xgraph.models import *\n",
    "import torch\n",
    "from torch_geometric.data import DataLoader\n",
    "from torch_geometric.data import Data, InMemoryDataset, download_url, extract_zip\n",
    "import os.path as osp\n",
    "import os\n",
    "#os.environ[\"CUDA_DEVICE_ORDER\"]=\"PCI_BUS_ID\"   # see issue #152\n",
    "#os.environ[\"CUDA_VISIBLE_DEVICES\"]=\"1\"\n",
    "import sys\n",
    "import time\n",
    "\n",
    "import pickle as pkl\n",
    "from matplotlib import pyplot as plt\n",
    "import networkx as nx\n",
    "import numpy as np\n",
    "\n",
    "\n",
    "from Extractor import Extractor\n",
    "from scipy.sparse import coo_matrix,csr_matrix\n",
    "#import tensorflow as tf\n",
    "import torch\n",
    "from utils import *\n",
    "from model import *\n",
    "from train import *\n",
    "\n",
    "from explain import *\n",
    "import time\n",
    "from tqdm import tqdm\n",
    "from sklearn.metrics import roc_auc_score\n",
    "from torch_geometric.utils import to_networkx\n",
    "import json\n",
    "device = torch.device('cuda' if torch.cuda.is_available() else 'cpu')\n",
    "print('device in use: ', device)\n",
    "\n",
    "np.set_printoptions(threshold=sys.maxsize)"
   ]
  },
  {
   "cell_type": "code",
   "execution_count": null,
   "metadata": {},
   "outputs": [],
   "source": [
    "dataset = SentiGraphDataset(root='./dataset', name='Graph-SST2')\n",
    "dataset.len()"
   ]
  },
  {
   "cell_type": "code",
   "execution_count": null,
   "metadata": {},
   "outputs": [],
   "source": [
    "train_len = int(0.8 * dataset.len())\n",
    "test_len = dataset.len() - train_len\n",
    "train_dataset, test_dataset = torch.utils.data.random_split(dataset, [train_len, test_len])"
   ]
  },
  {
   "cell_type": "code",
   "execution_count": null,
   "metadata": {},
   "outputs": [],
   "source": [
    "gcn_model = GCN(dataset, 3, 20)"
   ]
  },
  {
   "cell_type": "code",
   "execution_count": null,
   "metadata": {},
   "outputs": [],
   "source": [
    "train(gcn_model, train_dataset, test_dataset, max_epoch = 10, lr=0.001, save_model = True)"
   ]
  },
  {
   "cell_type": "code",
   "execution_count": null,
   "metadata": {},
   "outputs": [],
   "source": [
    "eval(gcn_model, test_dataset)"
   ]
  }
 ],
 "metadata": {
  "interpreter": {
   "hash": "581cff410c649e3123de6f78b6d59996374b29e4c31d235b1d5702c2341175c9"
  },
  "kernelspec": {
   "display_name": "Python 3.7.11 ('graph')",
   "language": "python",
   "name": "python3"
  },
  "language_info": {
   "name": "python",
   "version": "3.7.7"
  },
  "orig_nbformat": 4
 },
 "nbformat": 4,
 "nbformat_minor": 2
}
